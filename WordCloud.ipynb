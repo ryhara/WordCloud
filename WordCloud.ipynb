{
  "nbformat": 4,
  "nbformat_minor": 0,
  "metadata": {
    "colab": {
      "provenance": []
    },
    "kernelspec": {
      "name": "python3",
      "display_name": "Python 3"
    },
    "language_info": {
      "name": "python"
    }
  },
  "cells": [
    {
      "cell_type": "markdown",
      "source": [
        "<font color = red><h2>※Google Colaboratoryで開いてください</h2></font>"
      ],
      "metadata": {
        "id": "Dd82JZ2OGeIc"
      }
    },
    {
      "cell_type": "markdown",
      "source": [
        "# Googleドライブへの接続"
      ],
      "metadata": {
        "id": "bL1J_1UJujMq"
      }
    },
    {
      "cell_type": "code",
      "execution_count": null,
      "metadata": {
        "id": "gjU9h4G4uHZM"
      },
      "outputs": [],
      "source": [
        "#※Google Colaboratoryでこのファイルを開いてください\n",
        "#全てをまとめて実行する場合は上のメニューバーの「ランタイム」から全てのセルを実行\n",
        "#Googleアカウントへのログインが必要\n",
        "from google.colab import drive\n",
        "drive.mount('/content/drive')"
      ]
    },
    {
      "cell_type": "code",
      "source": [
        "#Googleドライブ内に、使用するデータとコードを含んだディレクトリを作成し、そのパスを指定\n",
        "import os\n",
        "\n",
        "#ディレクトリ名を指定\n",
        "project = 'directory'\n",
        "#そのディレクトリへ移動\n",
        "os.chdir(f'/content/drive/MyDrive/{project}/')"
      ],
      "metadata": {
        "id": "Y9-WojPZuPQO"
      },
      "execution_count": null,
      "outputs": []
    },
    {
      "cell_type": "markdown",
      "source": [
        "# コード\n",
        "\n",
        "## 準備"
      ],
      "metadata": {
        "id": "HBEHngF3uoBF"
      }
    },
    {
      "cell_type": "code",
      "source": [
        "#現在のディレクトリ内のファイル一覧を表示\n",
        "#分析したいtxtファイルはコードと同じディレクトリに置く\n",
        "! ls"
      ],
      "metadata": {
        "id": "TvhlPOSiurNf"
      },
      "execution_count": null,
      "outputs": []
    },
    {
      "cell_type": "code",
      "source": [
        "#現在のディレクトリ内のtxtファイルを指定してreadして出力\n",
        "#　https://www.aozora.gr.jp/　内のtxtファイルであれば、以降の作業で本文のみの抽出が可能\n",
        "with open('./gakumonno_susume.txt', mode='r', encoding='shift-jis') as f:\n",
        "  content = f.read()\n",
        "print(content)"
      ],
      "metadata": {
        "id": "W9zaN4Ajv1bx"
      },
      "execution_count": null,
      "outputs": []
    },
    {
      "cell_type": "code",
      "source": [
        "#解析に必要のない部分を取り除き、本文のみを取り出す作業\n",
        "import re\n",
        "body = content\n",
        "body = re.split(r'\\--+', body)[2] # --が連続した部分で区切り、見出し以降を抽出\n",
        "body = re.split(r'底本：', body)[0] # '底本'の部分で区切り、見出し、本文を抽出\n",
        "body = re.sub(r'《.+?》', '', body) # 《》で囲まれた部分を削除\n",
        "body = re.sub(r'［＃.+?］', '', body) # ［＃］で囲まれた部分を削除\n",
        "body = ' '.join(body.split()) #スペース、改行、タブで分割して繋げることで1行の文章にする\n",
        "body = body.strip() # 前後の余白を削除\n",
        "\n",
        "print(body)"
      ],
      "metadata": {
        "id": "JicwBR2HDa3N"
      },
      "execution_count": null,
      "outputs": []
    },
    {
      "cell_type": "markdown",
      "source": [
        "## 形態素解析\n",
        "\n"
      ],
      "metadata": {
        "id": "6J56YyFV2AC7"
      }
    },
    {
      "cell_type": "code",
      "source": [
        "#mecabのインストール 少し時間がかかります\n",
        "!apt install -q \\\n",
        "  mecab \\\n",
        "  mecab-ipadic-utf8 \\\n",
        "  libmecab-dev\n",
        "!pip install -q mecab-python3\n",
        "!ln -s /etc/mecabrc /usr/local/etc/mecabrc\n",
        "\n",
        "\n",
        "#インストールの確認\n",
        "!pip list | grep mecab"
      ],
      "metadata": {
        "id": "msc3PFiC2CCd"
      },
      "execution_count": null,
      "outputs": []
    },
    {
      "cell_type": "code",
      "source": [
        "import MeCab\n",
        "\n",
        "tagger = MeCab.Tagger()\n",
        "#parseでbodyを形態素解析したあと、splitで改行ごとに区切って形態素ごとに配列に格納\n",
        "parsed = tagger.parse(body).split('\\n')\n",
        "parsed[:6]"
      ],
      "metadata": {
        "id": "FUhx2HBk2anm"
      },
      "execution_count": null,
      "outputs": []
    },
    {
      "cell_type": "code",
      "source": [
        "print(parsed[-4:])\n",
        "#末尾二つが必要のないデータであるので取り除く\n",
        "parsed = parsed[:-2]\n",
        "parsed[-4:]"
      ],
      "metadata": {
        "id": "g6ak8HYXAzR5"
      },
      "execution_count": null,
      "outputs": []
    },
    {
      "cell_type": "code",
      "source": [
        "#parsedの要素をsplitで\\tまたはカンマの場合に区切って、配列に格納している。\n",
        "#lamdaで定義した関数をmapによってparsedに適用している。\n",
        "#*values, = はアンパックを表しており、可変長の配列に分割して格納している\n",
        "*values, = map(lambda s: re.split(r'\\t|,',s),parsed)\n",
        "values[:4]"
      ],
      "metadata": {
        "id": "4GR6sB6BCEek"
      },
      "execution_count": null,
      "outputs": []
    },
    {
      "cell_type": "code",
      "source": [
        "#mecabのカラム名を追加し、pandasでデータフレームに格納\n",
        "import pandas as pd\n",
        "columns =['表層形','品詞','品詞細分類1','品詞細分類2','品詞細分類3','活用型','活用形','原形','読み','発音']\n",
        "mecab_df = pd.DataFrame(data=values,columns=columns)\n",
        "print(len(mecab_df))\n",
        "mecab_df"
      ],
      "metadata": {
        "id": "DKm9SCF7FYQ8"
      },
      "execution_count": null,
      "outputs": []
    },
    {
      "cell_type": "code",
      "source": [
        "#単語の原形と品詞、その登場回数を多い順に出力\n",
        "print(mecab_df.groupby(['原形','品詞']).size().sort_values(ascending=False))"
      ],
      "metadata": {
        "id": "g3k-Sm-kFnuV"
      },
      "execution_count": null,
      "outputs": []
    },
    {
      "cell_type": "code",
      "source": [
        "#単語の品詞が名詞のものだけを出力\n",
        "noun = mecab_df.loc[mecab_df['品詞']=='名詞']\n",
        "noun"
      ],
      "metadata": {
        "id": "3hcMDmFPGGmK"
      },
      "execution_count": null,
      "outputs": []
    },
    {
      "cell_type": "code",
      "source": [
        "#名詞と動詞だけを出力\n",
        "verb = mecab_df.loc[(mecab_df['品詞'] == '名詞')|(mecab_df['品詞'] == '動詞')]\n",
        "verb"
      ],
      "metadata": {
        "id": "zlSo5RD9CVhf"
      },
      "execution_count": null,
      "outputs": []
    },
    {
      "cell_type": "code",
      "source": [
        "#名詞の出現回数を数えて、多い順に表示\n",
        "count = noun.groupby('原形').size().sort_values(ascending=False)\n",
        "count.name = 'count'\n",
        "count = count.reset_index().head(10)\n",
        "count"
      ],
      "metadata": {
        "id": "oaFHG5FZCvEx"
      },
      "execution_count": null,
      "outputs": []
    },
    {
      "cell_type": "code",
      "source": [
        "#分析に必要のない単語を取り除く\n",
        "#取り除く単語は文章によって、臨機応変に変更する。\n",
        "#本文の本質とは関係のない単語を取り除けばよい。\n",
        "stop_words = [\"これ\",\"こと\",\"もの\",\"*\",\"ところ\",\"の\",\"よう\"]\n",
        "noun = noun.loc[~noun['原形'].isin(stop_words)]\n",
        "count = noun.groupby('原形').size().sort_values(ascending=False)\n",
        "count.name = 'count'\n",
        "count = count.reset_index().head(10)\n",
        "count"
      ],
      "metadata": {
        "id": "sENbPxHk2Mz_"
      },
      "execution_count": null,
      "outputs": []
    },
    {
      "cell_type": "code",
      "source": [
        "#グラフの表示に必要なライブラリをインストール\n",
        "!pip install -q japanize-matplotlib\n",
        "import matplotlib.pyplot as plt\n",
        "import seaborn as sns\n",
        "import japanize_matplotlib"
      ],
      "metadata": {
        "id": "2rnOJL1xD5hn"
      },
      "execution_count": null,
      "outputs": []
    },
    {
      "cell_type": "code",
      "source": [
        "#グラフの表示\n",
        "plt.figure(figsize=(10, 5))\n",
        "sns.barplot(x=count['count'], y=count['原形'])"
      ],
      "metadata": {
        "id": "Jw9muFv5DFfz"
      },
      "execution_count": null,
      "outputs": []
    },
    {
      "cell_type": "code",
      "source": [
        "#フォントのインストールと確認\n",
        "!apt-get -yq install fonts-ipafont-gothic\n",
        "!ls /usr/share/fonts/opentype/ipafont-gothic"
      ],
      "metadata": {
        "id": "cbI6r1XDD-6v"
      },
      "execution_count": null,
      "outputs": []
    },
    {
      "cell_type": "code",
      "source": [
        "#ワードクラウドを用いて、単語の傾向を可視化する\n",
        "#出現頻度の高い単語が大きく表示される。\n",
        "from wordcloud import WordCloud\n",
        "import matplotlib.pyplot as plt\n",
        "import japanize_matplotlib\n",
        "font_path = 'usr/share/fonts/opentype/ipafont-gothic/ipagp.ttf'\n",
        "cloud = WordCloud(background_color='white', font_path=font_path).generate(' '.join(noun['原形'].values))\n",
        "plt.figure(figsize=(10, 5))\n",
        "plt.imshow(cloud)\n",
        "plt.axis(\"off\")\n",
        "plt.savefig('./wc_noun.png') #画像で保存、パスと名前を指定\n",
        "plt.show()"
      ],
      "metadata": {
        "id": "l-WTW_QFEJWd"
      },
      "execution_count": null,
      "outputs": []
    }
  ]
}